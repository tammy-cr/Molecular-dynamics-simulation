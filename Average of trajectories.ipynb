{
 "cells": [
  {
   "cell_type": "code",
   "execution_count": 3,
   "id": "abd7faf3",
   "metadata": {},
   "outputs": [],
   "source": [
    "import numpy as np\n",
    "\n",
    "simlength = 20000\n",
    "mtr = 5\n",
    "\n",
    "h = np.random.rand(simlength, mtr)  # generate random data for h\n",
    "\n",
    "# initialize arrays\n",
    "hav = np.zeros(simlength)\n",
    "havsq = np.zeros(simlength)\n",
    "hmav = np.zeros(mtr)\n",
    "\n",
    "hav_tot = 0.0\n",
    "havsq_tot = 0.0\n",
    "hmavsq_tot = 0.0\n",
    "\n",
    "# compute averages\n",
    "for t in range(simlength):\n",
    "    for m in range(mtr):\n",
    "        hav[t] += h[t, m]\n",
    "        hav_tot += h[t, m]\n",
    "        havsq_tot += h[t, m] ** 2\n",
    "\n",
    "    hav[t] /= mtr\n",
    "\n",
    "hav_tot /= simlength * mtr\n",
    "havsq_tot /= simlength * mtr\n",
    "h_stdev = np.sqrt(havsq_tot - hav_tot ** 2)\n",
    "\n",
    "# compute standard error\n",
    "for m in range(mtr):\n",
    "    for t in range(simlength):\n",
    "        hmav[m] += h[t, m]\n",
    "\n",
    "    hmav[m] /= simlength\n",
    "\n",
    "hmavsq_tot = np.sum(hmav ** 2) / mtr\n",
    "\n",
    "sterr = np.sqrt((hmavsq_tot - hav_tot ** 2) / mtr)\n"
   ]
  },
  {
   "cell_type": "code",
   "execution_count": 4,
   "id": "750a5531",
   "metadata": {},
   "outputs": [
    {
     "name": "stdout",
     "output_type": "stream",
     "text": [
      "hav: [0.60628869 0.4003151  0.57050863 ... 0.38609474 0.58357637 0.55715908]\n",
      "h_stdev: 0.2892968391752419\n",
      "sterr: 0.00030005840437376605\n"
     ]
    }
   ],
   "source": [
    "print(\"hav:\", hav)\n",
    "print(\"h_stdev:\", h_stdev)\n",
    "print(\"sterr:\", sterr)\n"
   ]
  },
  {
   "cell_type": "code",
   "execution_count": null,
   "id": "c5df539d",
   "metadata": {},
   "outputs": [],
   "source": []
  }
 ],
 "metadata": {
  "kernelspec": {
   "display_name": "Python 3 (ipykernel)",
   "language": "python",
   "name": "python3"
  },
  "language_info": {
   "codemirror_mode": {
    "name": "ipython",
    "version": 3
   },
   "file_extension": ".py",
   "mimetype": "text/x-python",
   "name": "python",
   "nbconvert_exporter": "python",
   "pygments_lexer": "ipython3",
   "version": "3.9.7"
  }
 },
 "nbformat": 4,
 "nbformat_minor": 5
}
